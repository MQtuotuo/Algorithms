{
 "cells": [
  {
   "cell_type": "markdown",
   "metadata": {},
   "source": [
    "## Setup"
   ]
  },
  {
   "cell_type": "code",
   "execution_count": 1,
   "metadata": {},
   "outputs": [],
   "source": [
    "import pandas as pd\n",
    "import numpy as np\n",
    "import datetime\n",
    "\n",
    "# turn of data table rendering (of the 90s)\n",
    "pd.set_option('display.notebook_repr_html', False)   "
   ]
  },
  {
   "cell_type": "markdown",
   "metadata": {},
   "source": [
    "## Creating a DataFrame"
   ]
  },
  {
   "cell_type": "code",
   "execution_count": 2,
   "metadata": {},
   "outputs": [
    {
     "data": {
      "text/plain": [
       "    Randnum  IsBool    Name\n",
       "0 -0.032206    True   Apple\n",
       "1  0.875514    True  Banana\n",
       "2 -1.464212   False  Tomato\n",
       "3  0.097504    True    Bean\n",
       "4  0.615402   False    Rice"
      ]
     },
     "execution_count": 2,
     "metadata": {},
     "output_type": "execute_result"
    }
   ],
   "source": [
    "# Collection of data columns\n",
    "s1 = np.random.randn(5)\n",
    "s2 = [True, True, False, True, False]\n",
    "s3 = ['Apple', 'Banana', 'Tomato', 'Bean', 'Rice']\n",
    "\n",
    "# Dict with added column names\n",
    "data = {'Randnum': s1, 'IsBool': s2, 'Name': s3}\n",
    "df = pd.DataFrame(data)\n",
    "df"
   ]
  },
  {
   "cell_type": "code",
   "execution_count": 3,
   "metadata": {},
   "outputs": [
    {
     "name": "stdout",
     "output_type": "stream",
     "text": [
      "Int64Index([0, 1, 2, 3, 4], dtype='int64')\n",
      "Index([u'IsBool', u'Name', u'Randnum'], dtype='object')\n"
     ]
    }
   ],
   "source": [
    "print df.index\n",
    "print df.columns"
   ]
  },
  {
   "cell_type": "code",
   "execution_count": 4,
   "metadata": {},
   "outputs": [
    {
     "data": {
      "text/plain": [
       "  IsBool    Name   Randnum  New\n",
       "0   True   Apple -0.155137  127\n",
       "1   True  Banana -0.191264  127\n",
       "2  False  Tomato  0.764165  127\n",
       "3   True    Bean  1.818205  127\n",
       "4  False    Rice -0.618209  127"
      ]
     },
     "execution_count": 4,
     "metadata": {},
     "output_type": "execute_result"
    }
   ],
   "source": [
    "# Create a new column and assign it all 127\n",
    "df['New'] = 127\n",
    "df"
   ]
  },
  {
   "cell_type": "markdown",
   "metadata": {},
   "source": [
    "## Data retrieval"
   ]
  },
  {
   "cell_type": "code",
   "execution_count": 5,
   "metadata": {},
   "outputs": [
    {
     "data": {
      "text/plain": [
       "0   -0.155137\n",
       "1   -0.191264\n",
       "2    0.764165\n",
       "3    1.818205\n",
       "4   -0.618209\n",
       "Name: Randnum, dtype: float64"
      ]
     },
     "execution_count": 5,
     "metadata": {},
     "output_type": "execute_result"
    }
   ],
   "source": [
    "# Select the Randnum column\n",
    "df.Randnum"
   ]
  },
  {
   "cell_type": "code",
   "execution_count": 6,
   "metadata": {},
   "outputs": [
    {
     "data": {
      "text/plain": [
       "  IsBool    Name   Randnum  New\n",
       "0   True   Apple -0.155137  127\n",
       "1   True  Banana -0.191264  127\n",
       "2  False  Tomato  0.764165  127"
      ]
     },
     "execution_count": 6,
     "metadata": {},
     "output_type": "execute_result"
    }
   ],
   "source": [
    "# Select the first three rows\n",
    "df[:3]"
   ]
  },
  {
   "cell_type": "code",
   "execution_count": 7,
   "metadata": {},
   "outputs": [
    {
     "data": {
      "text/plain": [
       "IsBool          True\n",
       "Name          Banana\n",
       "Randnum   -0.1912644\n",
       "New              127\n",
       "Name: 1, dtype: object"
      ]
     },
     "execution_count": 7,
     "metadata": {},
     "output_type": "execute_result"
    }
   ],
   "source": [
    "# Select the second row\n",
    "df.ix[1]"
   ]
  },
  {
   "cell_type": "code",
   "execution_count": 8,
   "metadata": {},
   "outputs": [
    {
     "data": {
      "text/plain": [
       "-0.19126442079621636"
      ]
     },
     "execution_count": 8,
     "metadata": {},
     "output_type": "execute_result"
    }
   ],
   "source": [
    "# Select the Randnum value of the second row\n",
    "df.ix[1, 2] # or\n",
    "df.ix[1, 'Randnum']"
   ]
  },
  {
   "cell_type": "code",
   "execution_count": 9,
   "metadata": {},
   "outputs": [
    {
     "data": {
      "text/plain": [
       "     Name   Randnum  Unknown\n",
       "0   Apple -0.155137      NaN\n",
       "2  Tomato  0.764165      NaN\n",
       "6     NaN       NaN      NaN"
      ]
     },
     "execution_count": 9,
     "metadata": {},
     "output_type": "execute_result"
    }
   ],
   "source": [
    "# Selecting specific rows and columns\n",
    "df.ix[[0, 2, 6], ['Name', 'Randnum', 'Unknown']]"
   ]
  },
  {
   "cell_type": "markdown",
   "metadata": {},
   "source": [
    "## Conditions"
   ]
  },
  {
   "cell_type": "code",
   "execution_count": 10,
   "metadata": {},
   "outputs": [
    {
     "data": {
      "text/plain": [
       "0     True\n",
       "1     True\n",
       "2    False\n",
       "3    False\n",
       "4     True\n",
       "Name: Randnum, dtype: bool"
      ]
     },
     "execution_count": 10,
     "metadata": {},
     "output_type": "execute_result"
    }
   ],
   "source": [
    "# Retrieve boolean Series, True if Randnum is smaller than zero\n",
    "belowzero = df.Randnum < 0\n",
    "belowzero"
   ]
  },
  {
   "cell_type": "code",
   "execution_count": 11,
   "metadata": {},
   "outputs": [
    {
     "data": {
      "text/plain": [
       "  IsBool    Name   Randnum  New\n",
       "0   True   Apple -0.155137  127\n",
       "1   True  Banana -0.191264  127\n",
       "4  False    Rice -0.618209  127"
      ]
     },
     "execution_count": 11,
     "metadata": {},
     "output_type": "execute_result"
    }
   ],
   "source": [
    "# Selects all rows meeting the belowzero condition\n",
    "df[belowzero]"
   ]
  },
  {
   "cell_type": "code",
   "execution_count": 12,
   "metadata": {},
   "outputs": [
    {
     "data": {
      "text/plain": [
       "0     True\n",
       "1    False\n",
       "2    False\n",
       "3    False\n",
       "4    False\n",
       "Name: Name, dtype: bool"
      ]
     },
     "execution_count": 12,
     "metadata": {},
     "output_type": "execute_result"
    }
   ],
   "source": [
    "# Retrieve boolean Series, True if Randnum is smaller than zero\n",
    "isapple = df['Name'] == 'Apple'\n",
    "isapple"
   ]
  },
  {
   "cell_type": "code",
   "execution_count": 13,
   "metadata": {},
   "outputs": [
    {
     "data": {
      "text/plain": [
       "  IsBool   Name   Randnum  New\n",
       "0   True  Apple -0.155137  127"
      ]
     },
     "execution_count": 13,
     "metadata": {},
     "output_type": "execute_result"
    }
   ],
   "source": [
    "# Select belowzero AND isapple conditions\n",
    "df[belowzero & isapple]"
   ]
  },
  {
   "cell_type": "code",
   "execution_count": 14,
   "metadata": {},
   "outputs": [
    {
     "data": {
      "text/plain": [
       "  IsBool    Name   Randnum  New\n",
       "0   True   Apple -0.155137  127\n",
       "1   True  Banana -0.191264  127\n",
       "4  False    Rice -0.618209  127"
      ]
     },
     "execution_count": 14,
     "metadata": {},
     "output_type": "execute_result"
    }
   ],
   "source": [
    "# Select belowzero OR isapple conditions\n",
    "df[belowzero | isapple]"
   ]
  },
  {
   "cell_type": "markdown",
   "metadata": {},
   "source": [
    "## Date range as an index"
   ]
  },
  {
   "cell_type": "code",
   "execution_count": 15,
   "metadata": {},
   "outputs": [
    {
     "data": {
      "text/plain": [
       "           IsBool    Name   Randnum  New\n",
       "Date                                    \n",
       "2015-01-01   True   Apple -0.155137  127\n",
       "2015-01-02   True  Banana -0.191264  127\n",
       "2015-01-03  False  Tomato  0.764165  127\n",
       "2015-01-04   True    Bean  1.818205  127\n",
       "2015-01-05  False    Rice -0.618209  127"
      ]
     },
     "execution_count": 15,
     "metadata": {},
     "output_type": "execute_result"
    }
   ],
   "source": [
    "# Set the index to a date range\n",
    "df.index = pd.date_range('1-1-2015', periods=5, freq='d')\n",
    "df.index.name = 'Date'\n",
    "df"
   ]
  },
  {
   "cell_type": "markdown",
   "metadata": {},
   "source": [
    "## Nested dictionary to DataFrame"
   ]
  },
  {
   "cell_type": "code",
   "execution_count": 16,
   "metadata": {},
   "outputs": [
    {
     "data": {
      "text/plain": [
       "   Amsterdam  London  Paris\n",
       "E        1.7     3.1    4.0\n",
       "N        2.3     9.7    1.2\n",
       "S        2.1     7.2    2.9\n",
       "W        7.2     2.0    0.8"
      ]
     },
     "execution_count": 16,
     "metadata": {},
     "output_type": "execute_result"
    }
   ],
   "source": [
    "# Create a nested dictionary of equal inner value-count\n",
    "data = {'Paris': {'N': 1.2, 'E': 4, 'S': 2.9, 'W': 0.8},\n",
    "        'Amsterdam': {'N': 2.3, 'E': 1.7, 'S': 2.1, 'W': 7.2},\n",
    "        'London': {'N': 9.7, 'E': 3.1, 'S': 7.2, 'W': 2}}\n",
    "\n",
    "df2 = pd.DataFrame(data)\n",
    "df2"
   ]
  }
 ],
 "metadata": {
  "kernelspec": {
   "display_name": "Python 3",
   "language": "python",
   "name": "python3"
  },
  "language_info": {
   "codemirror_mode": {
    "name": "ipython",
    "version": 3
   },
   "file_extension": ".py",
   "mimetype": "text/x-python",
   "name": "python",
   "nbconvert_exporter": "python",
   "pygments_lexer": "ipython3",
   "version": "3.7.7"
  }
 },
 "nbformat": 4,
 "nbformat_minor": 1
}
