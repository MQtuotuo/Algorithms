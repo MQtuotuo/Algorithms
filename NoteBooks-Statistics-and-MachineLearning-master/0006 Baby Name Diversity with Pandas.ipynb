{
 "cells": [
  {
   "cell_type": "code",
   "execution_count": 2,
   "metadata": {},
   "outputs": [
    {
     "data": {
      "text/plain": [
       "'0.24.2'"
      ]
     },
     "execution_count": 2,
     "metadata": {},
     "output_type": "execute_result"
    }
   ],
   "source": [
    "%matplotlib inline\n",
    "import matplotlib.pyplot as plt\n",
    "import numpy as np\n",
    "import pandas as pd\n",
    "\n",
    "# turn of data table rendering\n",
    "pd.set_option('display.notebook_repr_html', False)\n",
    "plt.style.use('ggplot')\n",
    "pd.__version__"
   ]
  },
  {
   "cell_type": "markdown",
   "metadata": {},
   "source": [
    "## Data"
   ]
  },
  {
   "cell_type": "code",
   "execution_count": 3,
   "metadata": {},
   "outputs": [
    {
     "data": {
      "text/plain": [
       "   year     name      prop  sex soundex\n",
       "0  1880     John  0.081541  boy    J500\n",
       "1  1880  William  0.080511  boy    W450\n",
       "2  1880    James  0.050057  boy    J520\n",
       "3  1880  Charles  0.045167  boy    C642\n",
       "4  1880   George  0.043292  boy    G620"
      ]
     },
     "execution_count": 3,
     "metadata": {},
     "output_type": "execute_result"
    }
   ],
   "source": [
    "# The data set contains the top 1000 baby names in the US\n",
    "# for each year from 1880 until 2008\n",
    "names_df = pd.read_csv('data/baby-names2.csv')\n",
    "names_df.head()"
   ]
  },
  {
   "cell_type": "markdown",
   "metadata": {},
   "source": [
    "## Explore the data"
   ]
  },
  {
   "cell_type": "code",
   "execution_count": 4,
   "metadata": {},
   "outputs": [
    {
     "data": {
      "text/plain": [
       "        year       name      prop   sex soundex\n",
       "218995  1969   Josefina  0.000067  girl    J215\n",
       "218996  1969   Marisela  0.000067  girl    M624\n",
       "218997  1969     Sallie  0.000067  girl    S400\n",
       "218998  1969      Suzan  0.000067  girl    S250\n",
       "218999  1969  Francisca  0.000066  girl    F652"
      ]
     },
     "execution_count": 4,
     "metadata": {},
     "output_type": "execute_result"
    }
   ],
   "source": [
    "# Get popular names for 1969\n",
    "names_df[names_df.year == 1969].tail()"
   ]
  },
  {
   "cell_type": "code",
   "execution_count": 5,
   "metadata": {},
   "outputs": [
    {
     "data": {
      "text/plain": [
       "        year       name      prop   sex soundex\n",
       "129000  1880       Mary  0.072381  girl    M600\n",
       "129001  1880       Anna  0.026678  girl    A500\n",
       "129002  1880       Emma  0.020521  girl    E500\n",
       "129003  1880  Elizabeth  0.019865  girl    E421\n",
       "129004  1880     Minnie  0.017888  girl    M500"
      ]
     },
     "execution_count": 5,
     "metadata": {},
     "output_type": "execute_result"
    }
   ],
   "source": [
    "# Separate the boys from the girls\n",
    "boys_df = names_df[names_df.sex == 'boy']\n",
    "girls_df = names_df[names_df.sex == 'girl']\n",
    "girls_df.head()"
   ]
  },
  {
   "cell_type": "code",
   "execution_count": 6,
   "metadata": {},
   "outputs": [
    {
     "data": {
      "text/plain": [
       "year\n",
       "1880    1000\n",
       "1881    1000\n",
       "1882    1000\n",
       "1883    1000\n",
       "1884    1000\n",
       "dtype: int64"
      ]
     },
     "execution_count": 6,
     "metadata": {},
     "output_type": "execute_result"
    }
   ],
   "source": [
    "# Get the number of boy baby name rows per year (showing first 5) \n",
    "boys_df.groupby('year').size().head()"
   ]
  },
  {
   "cell_type": "code",
   "execution_count": 7,
   "metadata": {},
   "outputs": [
    {
     "name": "stderr",
     "output_type": "stream",
     "text": [
      "/usr/local/lib/python3.7/site-packages/ipykernel_launcher.py:3: DeprecationWarning: \n",
      ".ix is deprecated. Please use\n",
      ".loc for label based indexing or\n",
      ".iloc for positional indexing\n",
      "\n",
      "See the documentation here:\n",
      "http://pandas.pydata.org/pandas-docs/stable/indexing.html#ix-indexer-is-deprecated\n",
      "  This is separate from the ipykernel package so we can avoid doing imports until\n"
     ]
    },
    {
     "data": {
      "text/plain": [
       "sex\n",
       "boy     1000\n",
       "girl    1000\n",
       "dtype: int64"
      ]
     },
     "execution_count": 7,
     "metadata": {},
     "output_type": "execute_result"
    }
   ],
   "source": [
    "# Get the hierarchical index of baby name rows per year \n",
    "# grouped by gender for the year 1969\n",
    "names_df.groupby(['year', 'sex']).size().ix[1969]"
   ]
  },
  {
   "cell_type": "code",
   "execution_count": 8,
   "metadata": {},
   "outputs": [
    {
     "name": "stderr",
     "output_type": "stream",
     "text": [
      "/usr/local/lib/python3.7/site-packages/ipykernel_launcher.py:3: DeprecationWarning: \n",
      ".ix is deprecated. Please use\n",
      ".loc for label based indexing or\n",
      ".iloc for positional indexing\n",
      "\n",
      "See the documentation here:\n",
      "http://pandas.pydata.org/pandas-docs/stable/indexing.html#ix-indexer-is-deprecated\n",
      "  This is separate from the ipykernel package so we can avoid doing imports until\n"
     ]
    },
    {
     "data": {
      "text/plain": [
       "year           1969\n",
       "name        Michael\n",
       "prop       0.046564\n",
       "sex             boy\n",
       "soundex        M240\n",
       "Name: 89000, dtype: object"
      ]
     },
     "execution_count": 8,
     "metadata": {},
     "output_type": "execute_result"
    }
   ],
   "source": [
    "# Get the most popular boy name for the year 1969\n",
    "rowid = boys_df[boys_df.year == 1969].prop.idxmax()\n",
    "boys_df.ix[rowid]"
   ]
  },
  {
   "cell_type": "code",
   "execution_count": 9,
   "metadata": {},
   "outputs": [
    {
     "name": "stderr",
     "output_type": "stream",
     "text": [
      "/usr/local/lib/python3.7/site-packages/ipykernel_launcher.py:4: DeprecationWarning: \n",
      ".ix is deprecated. Please use\n",
      ".loc for label based indexing or\n",
      ".iloc for positional indexing\n",
      "\n",
      "See the documentation here:\n",
      "http://pandas.pydata.org/pandas-docs/stable/indexing.html#ix-indexer-is-deprecated\n",
      "  after removing the cwd from sys.path.\n"
     ]
    },
    {
     "data": {
      "text/plain": [
       "      year   name      prop  sex soundex\n",
       "year                                    \n",
       "2004  2004  Jacob  0.013196  boy    J210\n",
       "2005  2005  Jacob  0.012148  boy    J210\n",
       "2006  2006  Jacob  0.011331  boy    J210\n",
       "2007  2007  Jacob  0.010948  boy    J210\n",
       "2008  2008  Jacob  0.010355  boy    J210"
      ]
     },
     "execution_count": 9,
     "metadata": {},
     "output_type": "execute_result"
    }
   ],
   "source": [
    "# Apply the get_max_proportion to the whole dataframe\n",
    "# to get the most popular name for each year (showing first 5)\n",
    "def get_max_proportion(group):\n",
    "    return group.ix[group.prop.idxmax()]\n",
    "    \n",
    "popular_boys_df = boys_df.groupby('year').apply(get_max_proportion)\n",
    "popular_boys_df.tail()"
   ]
  },
  {
   "cell_type": "code",
   "execution_count": 11,
   "metadata": {},
   "outputs": [
    {
     "data": {
      "text/plain": [
       "<matplotlib.axes._subplots.AxesSubplot at 0x11967eb10>"
      ]
     },
     "execution_count": 11,
     "metadata": {},
     "output_type": "execute_result"
    },
    {
     "data": {
      "image/png": "[encoded data removed]",
      "text/plain": [
       "<Figure size 432x288 with 1 Axes>"
      ]
     },
     "metadata": {},
     "output_type": "display_data"
    }
   ],
   "source": [
    "# Plot the proportion of the most popular boy name per year\n",
    "# Maybe showing more diversity in chosen boy names over time\n",
    "popular_boys_df.prop.plot(legend=True, title='Proportion most popular boy name', \n",
    "                          kind='area', color='#00A99D', alpha=.5)"
   ]
  },
  {
   "cell_type": "code",
   "execution_count": 12,
   "metadata": {},
   "outputs": [
    {
     "data": {
      "text/plain": [
       "                  prop  sex soundex\n",
       "name    year                       \n",
       "John    1880  0.081541  boy    J500\n",
       "William 1880  0.080511  boy    W450\n",
       "James   1880  0.050057  boy    J520\n",
       "Charles 1880  0.045167  boy    C642\n",
       "George  1880  0.043292  boy    G620"
      ]
     },
     "execution_count": 12,
     "metadata": {},
     "output_type": "execute_result"
    }
   ],
   "source": [
    "# Set the index to a name/year combination\n",
    "boys_index_df = boys_df.set_index(['name', 'year'])\n",
    "boys_index_df.head()"
   ]
  },
  {
   "cell_type": "code",
   "execution_count": 15,
   "metadata": {},
   "outputs": [
    {
     "name": "stderr",
     "output_type": "stream",
     "text": [
      "/usr/local/lib/python3.7/site-packages/ipykernel_launcher.py:1: DeprecationWarning: \n",
      ".ix is deprecated. Please use\n",
      ".loc for label based indexing or\n",
      ".iloc for positional indexing\n",
      "\n",
      "See the documentation here:\n",
      "http://pandas.pydata.org/pandas-docs/stable/indexing.html#ix-indexer-is-deprecated\n",
      "  \"\"\"Entry point for launching an IPython kernel.\n"
     ]
    },
    {
     "data": {
      "text/plain": [
       "          prop  sex soundex\n",
       "year                       \n",
       "1880  0.000997  boy    L500\n",
       "1881  0.001117  boy    L500\n",
       "1882  0.001073  boy    L500\n",
       "1883  0.001245  boy    L500\n",
       "1884  0.001222  boy    L500\n",
       "1885  0.001259  boy    L500\n",
       "1886  0.001193  boy    L500\n",
       "1887  0.001345  boy    L500\n",
       "1888  0.001509  boy    L500\n",
       "1889  0.001546  boy    L500\n",
       "1890  0.001646  boy    L500\n",
       "1891  0.001373  boy    L500\n",
       "1892  0.001422  boy    L500\n",
       "1893  0.001743  boy    L500\n",
       "1894  0.001889  boy    L500\n",
       "1895  0.001729  boy    L500\n",
       "1896  0.001820  boy    L500\n",
       "1897  0.001878  boy    L500\n",
       "1898  0.001907  boy    L500\n",
       "1899  0.001632  boy    L500\n",
       "1900  0.001916  boy    L500\n",
       "1901  0.001799  boy    L500\n",
       "1902  0.001868  boy    L500\n",
       "1903  0.002227  boy    L500\n",
       "1904  0.001740  boy    L500\n",
       "1905  0.001913  boy    L500\n",
       "1906  0.001825  boy    L500\n",
       "1907  0.002043  boy    L500\n",
       "1908  0.001966  boy    L500\n",
       "1909  0.002132  boy    L500\n",
       "...        ...  ...     ...\n",
       "1979  0.000507  boy    L500\n",
       "1980  0.000488  boy    L500\n",
       "1981  0.000467  boy    L500\n",
       "1982  0.000463  boy    L500\n",
       "1983  0.000421  boy    L500\n",
       "1984  0.000426  boy    L500\n",
       "1985  0.000377  boy    L500\n",
       "1986  0.000358  boy    L500\n",
       "1987  0.000340  boy    L500\n",
       "1988  0.000338  boy    L500\n",
       "1989  0.000308  boy    L500\n",
       "1990  0.000276  boy    L500\n",
       "1991  0.000273  boy    L500\n",
       "1992  0.000281  boy    L500\n",
       "1993  0.000257  boy    L500\n",
       "1994  0.000266  boy    L500\n",
       "1995  0.000249  boy    L500\n",
       "1996  0.000236  boy    L500\n",
       "1997  0.000218  boy    L500\n",
       "1998  0.000226  boy    L500\n",
       "1999  0.000226  boy    L500\n",
       "2000  0.000218  boy    L500\n",
       "2001  0.000226  boy    L500\n",
       "2002  0.000227  boy    L500\n",
       "2003  0.000235  boy    L500\n",
       "2004  0.000219  boy    L500\n",
       "2005  0.000220  boy    L500\n",
       "2006  0.000235  boy    L500\n",
       "2007  0.000244  boy    L500\n",
       "2008  0.000250  boy    L500\n",
       "\n",
       "[129 rows x 3 columns]"
      ]
     },
     "execution_count": 15,
     "metadata": {},
     "output_type": "execute_result"
    }
   ],
   "source": [
    "boys_index_df.ix['Leon']"
   ]
  },
  {
   "cell_type": "code",
   "execution_count": 16,
   "metadata": {},
   "outputs": [
    {
     "name": "stderr",
     "output_type": "stream",
     "text": [
      "/usr/local/lib/python3.7/site-packages/ipykernel_launcher.py:2: DeprecationWarning: \n",
      ".ix is deprecated. Please use\n",
      ".loc for label based indexing or\n",
      ".iloc for positional indexing\n",
      "\n",
      "See the documentation here:\n",
      "http://pandas.pydata.org/pandas-docs/stable/indexing.html#ix-indexer-is-deprecated\n",
      "  \n"
     ]
    },
    {
     "data": {
      "text/plain": [
       "<matplotlib.axes._subplots.AxesSubplot at 0x11b748450>"
      ]
     },
     "execution_count": 16,
     "metadata": {},
     "output_type": "execute_result"
    },
    {
     "data": {
      "image/png": "[encoded data removed]",
      "text/plain": [
       "<Figure size 432x288 with 1 Axes>"
      ]
     },
     "metadata": {},
     "output_type": "display_data"
    }
   ],
   "source": [
    "# Narcissistic query for the popularity of my first name\n",
    "leon_popularity = boys_index_df.ix['Leon']\n",
    "leon_popularity.prop.plot(kind='area', color='#00A99D', alpha=.5, \n",
    "                          legend=True, title='Popularity of the name Leon')"
   ]
  },
  {
   "cell_type": "code",
   "execution_count": 17,
   "metadata": {},
   "outputs": [
    {
     "name": "stderr",
     "output_type": "stream",
     "text": [
      "/usr/local/lib/python3.7/site-packages/ipykernel_launcher.py:2: DeprecationWarning: \n",
      ".ix is deprecated. Please use\n",
      ".loc for label based indexing or\n",
      ".iloc for positional indexing\n",
      "\n",
      "See the documentation here:\n",
      "http://pandas.pydata.org/pandas-docs/stable/indexing.html#ix-indexer-is-deprecated\n",
      "  \n"
     ]
    },
    {
     "data": {
      "text/plain": [
       "1918"
      ]
     },
     "execution_count": 17,
     "metadata": {},
     "output_type": "execute_result"
    }
   ],
   "source": [
    "# My name was the most popular in the year...\n",
    "boys_index_df.ix['Leon'].prop.idxmax()"
   ]
  },
  {
   "cell_type": "code",
   "execution_count": 18,
   "metadata": {},
   "outputs": [
    {
     "data": {
      "text/plain": [
       "('John', 1880)"
      ]
     },
     "execution_count": 18,
     "metadata": {},
     "output_type": "execute_result"
    }
   ],
   "source": [
    "# Highest boy name proportion ever...\n",
    "boys_index_df.prop.idxmax()"
   ]
  },
  {
   "cell_type": "code",
   "execution_count": 19,
   "metadata": {},
   "outputs": [
    {
     "ename": "AttributeError",
     "evalue": "'Series' object has no attribute 'order'",
     "output_type": "error",
     "traceback": [
      "\u001b[0;31m---------------------------------------------------------------------------\u001b[0m",
      "\u001b[0;31mAttributeError\u001b[0m                            Traceback (most recent call last)",
      "\u001b[0;32m<ipython-input-19-d069b36b7254>\u001b[0m in \u001b[0;36m<module>\u001b[0;34m\u001b[0m\n\u001b[1;32m      2\u001b[0m \u001b[0;31m# Show first 5 in descending order\u001b[0m\u001b[0;34m\u001b[0m\u001b[0;34m\u001b[0m\u001b[0;34m\u001b[0m\u001b[0m\n\u001b[1;32m      3\u001b[0m \u001b[0mmean_prop\u001b[0m \u001b[0;34m=\u001b[0m \u001b[0mgirls_df\u001b[0m\u001b[0;34m.\u001b[0m\u001b[0mgroupby\u001b[0m\u001b[0;34m(\u001b[0m\u001b[0;34m'name'\u001b[0m\u001b[0;34m)\u001b[0m\u001b[0;34m[\u001b[0m\u001b[0;34m'prop'\u001b[0m\u001b[0;34m]\u001b[0m\u001b[0;34m.\u001b[0m\u001b[0mmean\u001b[0m\u001b[0;34m(\u001b[0m\u001b[0;34m)\u001b[0m\u001b[0;34m\u001b[0m\u001b[0;34m\u001b[0m\u001b[0m\n\u001b[0;32m----> 4\u001b[0;31m \u001b[0mmean_prop\u001b[0m\u001b[0;34m.\u001b[0m\u001b[0morder\u001b[0m\u001b[0;34m(\u001b[0m\u001b[0mascending\u001b[0m\u001b[0;34m=\u001b[0m\u001b[0;32mFalse\u001b[0m\u001b[0;34m)\u001b[0m\u001b[0;34m.\u001b[0m\u001b[0mhead\u001b[0m\u001b[0;34m(\u001b[0m\u001b[0;34m)\u001b[0m\u001b[0;34m\u001b[0m\u001b[0;34m\u001b[0m\u001b[0m\n\u001b[0m",
      "\u001b[0;32m/usr/local/lib/python3.7/site-packages/pandas/core/generic.py\u001b[0m in \u001b[0;36m__getattr__\u001b[0;34m(self, name)\u001b[0m\n\u001b[1;32m   5065\u001b[0m             \u001b[0;32mif\u001b[0m \u001b[0mself\u001b[0m\u001b[0;34m.\u001b[0m\u001b[0m_info_axis\u001b[0m\u001b[0;34m.\u001b[0m\u001b[0m_can_hold_identifiers_and_holds_name\u001b[0m\u001b[0;34m(\u001b[0m\u001b[0mname\u001b[0m\u001b[0;34m)\u001b[0m\u001b[0;34m:\u001b[0m\u001b[0;34m\u001b[0m\u001b[0;34m\u001b[0m\u001b[0m\n\u001b[1;32m   5066\u001b[0m                 \u001b[0;32mreturn\u001b[0m \u001b[0mself\u001b[0m\u001b[0;34m[\u001b[0m\u001b[0mname\u001b[0m\u001b[0;34m]\u001b[0m\u001b[0;34m\u001b[0m\u001b[0;34m\u001b[0m\u001b[0m\n\u001b[0;32m-> 5067\u001b[0;31m             \u001b[0;32mreturn\u001b[0m \u001b[0mobject\u001b[0m\u001b[0;34m.\u001b[0m\u001b[0m__getattribute__\u001b[0m\u001b[0;34m(\u001b[0m\u001b[0mself\u001b[0m\u001b[0;34m,\u001b[0m \u001b[0mname\u001b[0m\u001b[0;34m)\u001b[0m\u001b[0;34m\u001b[0m\u001b[0;34m\u001b[0m\u001b[0m\n\u001b[0m\u001b[1;32m   5068\u001b[0m \u001b[0;34m\u001b[0m\u001b[0m\n\u001b[1;32m   5069\u001b[0m     \u001b[0;32mdef\u001b[0m \u001b[0m__setattr__\u001b[0m\u001b[0;34m(\u001b[0m\u001b[0mself\u001b[0m\u001b[0;34m,\u001b[0m \u001b[0mname\u001b[0m\u001b[0;34m,\u001b[0m \u001b[0mvalue\u001b[0m\u001b[0;34m)\u001b[0m\u001b[0;34m:\u001b[0m\u001b[0;34m\u001b[0m\u001b[0;34m\u001b[0m\u001b[0m\n",
      "\u001b[0;31mAttributeError\u001b[0m: 'Series' object has no attribute 'order'"
     ]
    }
   ],
   "source": [
    "# Calculate the mean proportion for each girl name in the set\n",
    "# Show first 5 in descending order\n",
    "mean_prop = girls_df.groupby('name')['prop'].mean()\n",
    "mean_prop.order(ascending=False).head()"
   ]
  },
  {
   "cell_type": "code",
   "execution_count": 20,
   "metadata": {},
   "outputs": [
    {
     "data": {
      "text/plain": [
       "        prop                                                              \\\n",
       "       count      mean       std       min       25%       50%       75%   \n",
       "year                                                                       \n",
       "1880  1000.0  0.000935  0.003270  0.000041  0.000061  0.000123  0.000400   \n",
       "1881  1000.0  0.000933  0.003214  0.000040  0.000061  0.000121  0.000407   \n",
       "1882  1000.0  0.000931  0.003211  0.000043  0.000061  0.000121  0.000406   \n",
       "1883  1000.0  0.000933  0.003131  0.000042  0.000067  0.000125  0.000433   \n",
       "1884  1000.0  0.000931  0.003124  0.000044  0.000065  0.000128  0.000443   \n",
       "1885  1000.0  0.000930  0.003058  0.000042  0.000063  0.000127  0.000465   \n",
       "1886  1000.0  0.000930  0.003038  0.000039  0.000065  0.000130  0.000449   \n",
       "1887  1000.0  0.000928  0.003011  0.000045  0.000064  0.000129  0.000452   \n",
       "1888  1000.0  0.000928  0.002958  0.000042  0.000069  0.000137  0.000455   \n",
       "1889  1000.0  0.000928  0.002937  0.000042  0.000069  0.000132  0.000461   \n",
       "1890  1000.0  0.000928  0.002889  0.000045  0.000069  0.000134  0.000491   \n",
       "1891  1000.0  0.000927  0.002876  0.000046  0.000066  0.000137  0.000479   \n",
       "1892  1000.0  0.000925  0.002849  0.000044  0.000071  0.000133  0.000498   \n",
       "1893  1000.0  0.000926  0.002827  0.000044  0.000071  0.000133  0.000487   \n",
       "1894  1000.0  0.000924  0.002776  0.000042  0.000068  0.000140  0.000500   \n",
       "1895  1000.0  0.000922  0.002752  0.000045  0.000073  0.000138  0.000510   \n",
       "1896  1000.0  0.000921  0.002751  0.000044  0.000075  0.000139  0.000513   \n",
       "1897  1000.0  0.000921  0.002722  0.000044  0.000073  0.000137  0.000518   \n",
       "1898  1000.0  0.000918  0.002684  0.000047  0.000073  0.000142  0.000516   \n",
       "1899  1000.0  0.000918  0.002696  0.000044  0.000077  0.000141  0.000507   \n",
       "1900  1000.0  0.000913  0.002646  0.000047  0.000075  0.000145  0.000525   \n",
       "1901  1000.0  0.000915  0.002640  0.000047  0.000075  0.000146  0.000528   \n",
       "1902  1000.0  0.000914  0.002643  0.000046  0.000078  0.000146  0.000549   \n",
       "1903  1000.0  0.000913  0.002642  0.000047  0.000075  0.000147  0.000526   \n",
       "\n",
       "                \n",
       "           max  \n",
       "year            \n",
       "1880  0.072381  \n",
       "1881  0.069986  \n",
       "1882  0.070431  \n",
       "1883  0.066737  \n",
       "1884  0.066990  \n",
       "1885  0.064300  \n",
       "1886  0.064334  \n",
       "1887  0.063620  \n",
       "1888  0.062041  \n",
       "1889  0.061562  \n",
       "1890  0.059892  \n",
       "1891  0.059543  \n",
       "1892  0.058570  \n",
       "1893  0.056757  \n",
       "1894  0.055730  \n",
       "1895  0.054416  \n",
       "1896  0.054805  \n",
       "1897  0.054025  \n",
       "1898  0.052547  \n",
       "1899  0.053226  \n",
       "1900  0.052567  \n",
       "1901  0.051672  \n",
       "1902  0.051666  \n",
       "1903  0.051312  "
      ]
     },
     "execution_count": 20,
     "metadata": {},
     "output_type": "execute_result"
    }
   ],
   "source": [
    "# Retrieve summary statistics for each year in the data set\n",
    "result = girls_df.groupby('year').describe()\n",
    "result.head(24)"
   ]
  },
  {
   "cell_type": "markdown",
   "metadata": {},
   "source": [
    "## Calculating Baby Name Diversity"
   ]
  },
  {
   "cell_type": "code",
   "execution_count": 21,
   "metadata": {},
   "outputs": [
    {
     "name": "stderr",
     "output_type": "stream",
     "text": [
      "/usr/local/lib/python3.7/site-packages/ipykernel_launcher.py:3: FutureWarning: by argument to sort_index is deprecated, please use .sort_values(by=...)\n",
      "  This is separate from the ipykernel package so we can avoid doing imports until\n"
     ]
    },
    {
     "data": {
      "text/plain": [
       "        year      name      prop   sex soundex\n",
       "221000  1972  Jennifer  0.039447  girl    J516\n",
       "221001  1972  Michelle  0.018157  girl    M240\n",
       "221002  1972      Lisa  0.017086  girl    L200\n",
       "221003  1972  Kimberly  0.016310  girl    K516\n",
       "221004  1972       Amy  0.016042  girl    A500"
      ]
     },
     "execution_count": 21,
     "metadata": {},
     "output_type": "execute_result"
    }
   ],
   "source": [
    "# Get a single year of girl names and sort by proportion descending\n",
    "girls_df_1972 = girls_df[girls_df.year == 1972]\n",
    "girls_df_1972_sorted = girls_df_1972.sort_index(by='prop', ascending=False)\n",
    "girls_df_1972_sorted.head()"
   ]
  },
  {
   "cell_type": "code",
   "execution_count": 17,
   "metadata": {},
   "outputs": [
    {
     "data": {
      "text/plain": [
       "0.84374700000000091"
      ]
     },
     "execution_count": 17,
     "metadata": {},
     "output_type": "execute_result"
    }
   ],
   "source": [
    "# What is the proportion of this top 1000 girl names of the total names?\n",
    "girls_df_1972_sorted.prop.cumsum().max()"
   ]
  },
  {
   "cell_type": "code",
   "execution_count": 18,
   "metadata": {},
   "outputs": [
    {
     "data": {
      "text/plain": [
       "221088    0.496577\n",
       "221089    0.498685\n",
       "221090    0.500773\n",
       "221091    0.502820\n",
       "221092    0.504862\n",
       "Name: prop, dtype: float64"
      ]
     },
     "execution_count": 18,
     "metadata": {},
     "output_type": "execute_result"
    }
   ],
   "source": [
    "# Where is the 50% crossover point for cumulative sum\n",
    "girls_df_1972_cumsum = girls_df_1972_sorted.prop.cumsum()\n",
    "crossover = girls_df_1972_cumsum.searchsorted(.5)\n",
    "girls_df_1972_cumsum[(crossover[0]-2):crossover[0]+3]"
   ]
  },
  {
   "cell_type": "code",
   "execution_count": 19,
   "metadata": {},
   "outputs": [
    {
     "data": {
      "text/plain": [
       "90"
      ]
     },
     "execution_count": 19,
     "metadata": {},
     "output_type": "execute_result"
    }
   ],
   "source": [
    "# The crossover can be seen as a meassure of diversity\n",
    "# It's the number of names accounting for 50% of all the names given\n",
    "# So the higher, the more creative name giving\n",
    "crossover[0]"
   ]
  },
  {
   "cell_type": "code",
   "execution_count": 20,
   "metadata": {},
   "outputs": [
    {
     "data": {
      "text/plain": [
       "<matplotlib.axes._subplots.AxesSubplot at 0xb74e8d0>"
      ]
     },
     "execution_count": 20,
     "metadata": {},
     "output_type": "execute_result"
    },
    {
     "data": {
      "image/png": "[encoded data removed]",
      "text/plain": [
       "<matplotlib.figure.Figure at 0xf158cf8>"
      ]
     },
     "metadata": {},
     "output_type": "display_data"
    }
   ],
   "source": [
    "# Let's calculate this crossover point for boys and girls per year\n",
    "def get_crossover(group, quantile):\n",
    "    df = group.sort_index(by='prop', ascending=False)\n",
    "    return df.prop.cumsum().searchsorted(quantile)[0]\n",
    "\n",
    "q = .5\n",
    "\n",
    "girls_crossover = girls_df.groupby('year').apply(get_crossover, quantile=q)\n",
    "girls_crossover.name = 'girls'\n",
    "\n",
    "boys_crossover = boys_df.groupby('year').apply(get_crossover, quantile=q)\n",
    "boys_crossover.name = 'boys'\n",
    "\n",
    "# Plot the crossover counts over time\n",
    "girls_crossover.plot(kind='area', color='#00A99D', alpha=.5, legend=True)\n",
    "boys_crossover.plot(title='Baby name diversity', kind='area', \n",
    "                    color='#F5CA0C', alpha=.5, legend=True)"
   ]
  }
 ],
 "metadata": {
  "kernelspec": {
   "display_name": "Python 3",
   "language": "python",
   "name": "python3"
  },
  "language_info": {
   "codemirror_mode": {
    "name": "ipython",
    "version": 3
   },
   "file_extension": ".py",
   "mimetype": "text/x-python",
   "name": "python",
   "nbconvert_exporter": "python",
   "pygments_lexer": "ipython3",
   "version": "3.7.7"
  }
 },
 "nbformat": 4,
 "nbformat_minor": 1
}
